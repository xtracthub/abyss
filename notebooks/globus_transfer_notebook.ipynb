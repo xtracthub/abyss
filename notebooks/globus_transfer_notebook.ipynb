{
 "cells": [
  {
   "cell_type": "markdown",
   "id": "portuguese-detector",
   "metadata": {},
   "source": [
    "## Transferring Deep Blue data between Petrel and Jetstream"
   ]
  },
  {
   "cell_type": "code",
   "execution_count": 1,
   "id": "imperial-hawaiian",
   "metadata": {},
   "outputs": [],
   "source": [
    "import globus_sdk\n",
    "import os\n",
    "import pandas as pd\n",
    "import time"
   ]
  },
  {
   "cell_type": "markdown",
   "id": "preceding-parts",
   "metadata": {},
   "source": [
    "### Setup Globus Transfer"
   ]
  },
  {
   "cell_type": "code",
   "execution_count": 2,
   "id": "cellular-player",
   "metadata": {},
   "outputs": [],
   "source": [
    "# Set enpoint IDs and file paths\n",
    "petrel_endpoint = \"4f99675c-ac1f-11ea-bee8-0e716405a293\"\n",
    "jetstream_endpoint = \"49f1efac-6049-11eb-87c8-02187389bd35\""
   ]
  },
  {
   "cell_type": "code",
   "execution_count": 3,
   "id": "rising-lingerie",
   "metadata": {},
   "outputs": [
    {
     "name": "stdout",
     "output_type": "stream",
     "text": [
      "Login Here:\n",
      "\n",
      "https://auth.globus.org/v2/oauth2/authorize?client_id=7414f0b4-7d05-4bb6-bb00-076fa3f17cf5&redirect_uri=https%3A%2F%2Fauth.globus.org%2Fv2%2Fweb%2Fauth-code&scope=openid+profile+email+urn%3Aglobus%3Aauth%3Ascope%3Atransfer.api.globus.org%3Aall&state=_default&response_type=code&code_challenge=REyZrx5THxVn7wMGxZioT05K8MKs99VHyYex2KD3X8E&code_challenge_method=S256&access_type=online\n"
     ]
    }
   ],
   "source": [
    "# Login to Globus Auth\n",
    "native_auth_client = globus_sdk.NativeAppAuthClient('7414f0b4-7d05-4bb6-bb00-076fa3f17cf5')\n",
    "native_auth_client.oauth2_start_flow()\n",
    "\n",
    "print(\"Login Here:\\n\\n{0}\".format(native_auth_client.oauth2_get_authorize_url()))"
   ]
  },
  {
   "cell_type": "code",
   "execution_count": 90,
   "id": "accredited-wisdom",
   "metadata": {},
   "outputs": [],
   "source": [
    "# Authorization code\n",
    "auth_code = \"Kr9NT3KpvLG4wOe6rJm3bhzVNTPNrq\"\n",
    "\n",
    "# Create transfer client\n",
    "token_response = native_auth_client.oauth2_exchange_code_for_tokens(auth_code)\n",
    "transfer_access_token = token_response.by_resource_server['transfer.api.globus.org']['access_token']\n",
    "transfer_authorizer = globus_sdk.AccessTokenAuthorizer(transfer_access_token)\n",
    "transfer_client = globus_sdk.TransferClient(authorizer=transfer_authorizer)"
   ]
  },
  {
   "cell_type": "markdown",
   "id": "false-schema",
   "metadata": {},
   "source": [
    "### Transfer Data"
   ]
  },
  {
   "cell_type": "code",
   "execution_count": 4,
   "id": "commercial-monaco",
   "metadata": {},
   "outputs": [],
   "source": [
    "# Import Deep Blue crawl data\n",
    "deep_blue_crawl_df = pd.read_csv(\"../data/deep_blue_xtract_crawl.csv\")\n",
    "\n",
    "# Create mapping of file to file UUID\n",
    "file_uuid_mapping = dict()\n",
    "for index, row in deep_blue_crawl_df.iterrows():\n",
    "    file_uuid_mapping[row[0]] = row[4]\n",
    "\n",
    "# Filter files\n",
    "filtered_files = deep_blue_crawl_df[deep_blue_crawl_df.extension == \"zip\"].sort_values(by=[\"size_bytes\"])"
   ]
  },
  {
   "cell_type": "code",
   "execution_count": 131,
   "id": "smaller-immigration",
   "metadata": {},
   "outputs": [
    {
     "name": "stdout",
     "output_type": "stream",
     "text": [
      "472 files to transfer\n",
      "Total size: 4.972882032 GB\n"
     ]
    }
   ],
   "source": [
    "# Load files already transferred\n",
    "transferred_files_file = \"data/transferred_files.txt\"\n",
    "transferred_files = []\n",
    "with open(transferred_files_file, \"r\") as f:\n",
    "    for line in f:\n",
    "        transferred_files.append(line.strip(\"\\n\"))\n",
    "\n",
    "# Pick which files to transfer\n",
    "transfer_job_size = 0\n",
    "files_to_transfer = []\n",
    "max_size_threshold = 5 * 10 ** 9 # Just to make sure we don't blow up the Jetstream instance\n",
    "\n",
    "for index, row in filtered_files.iterrows():\n",
    "    file_path = row[0]\n",
    "    file_size = row[1]\n",
    "    \n",
    "    if file_uuid_mapping[file_path] in transferred_files:\n",
    "        pass\n",
    "    elif transfer_job_size + file_size > max_size_threshold:\n",
    "        break\n",
    "    else:\n",
    "        files_to_transfer.append(file_path)\n",
    "        transfer_job_size += file_size\n",
    "\n",
    "print(f\"{len(files_to_transfer)} files to transfer\")\n",
    "print(f\"Total size: {transfer_job_size / (10 ** 9)} GB\")"
   ]
  },
  {
   "cell_type": "code",
   "execution_count": 134,
   "id": "according-mattress",
   "metadata": {},
   "outputs": [
    {
     "name": "stdout",
     "output_type": "stream",
     "text": [
      "Task ID: 8e09bbaa-60be-11eb-8c2f-0eb1aa8d4337\n"
     ]
    }
   ],
   "source": [
    "# Transfer data\n",
    "\n",
    "label = \"Deep Blue transfer\"\n",
    "tdata = globus_sdk.TransferData(transfer_client, petrel_endpoint,\n",
    "                                jetstream_endpoint,\n",
    "                                label=label)\n",
    "\n",
    "# Transfer file to file UUID to avoid name collisions\n",
    "for file in files_to_transfer:\n",
    "    tdata.add_item(file, f\"~/ryan/deep_blue_data/{os.path.basename(file_uuid_mapping[file])}\")\n",
    "\n",
    "transfer_client.endpoint_autoactivate(petrel_endpoint)\n",
    "transfer_client.endpoint_autoactivate(jetstream_endpoint)\n",
    "\n",
    "submit_result = transfer_client.submit_transfer(tdata)\n",
    "print(\"Task ID:\", submit_result[\"task_id\"])"
   ]
  },
  {
   "cell_type": "code",
   "execution_count": 135,
   "id": "material-pension",
   "metadata": {
    "scrolled": true
   },
   "outputs": [
    {
     "name": "stdout",
     "output_type": "stream",
     "text": [
      "_________\n",
      "Status: ACTIVE\n",
      "Bytes transferred: 0, Files transferred: 0, Transfer rate: 0\n",
      "_________\n",
      "Status: ACTIVE\n",
      "Bytes transferred: 0, Files transferred: 0, Transfer rate: 0\n",
      "_________\n",
      "Status: ACTIVE\n",
      "Bytes transferred: 0, Files transferred: 0, Transfer rate: 0\n",
      "_________\n",
      "Status: ACTIVE\n",
      "Bytes transferred: 0, Files transferred: 0, Transfer rate: 0\n",
      "_________\n",
      "Status: ACTIVE\n",
      "Bytes transferred: 0, Files transferred: 0, Transfer rate: 0\n",
      "_________\n",
      "Status: ACTIVE\n",
      "Bytes transferred: 0, Files transferred: 0, Transfer rate: 0\n",
      "_________\n",
      "Status: ACTIVE\n",
      "Bytes transferred: 0, Files transferred: 0, Transfer rate: 0\n",
      "_________\n",
      "Status: ACTIVE\n",
      "Bytes transferred: 4835255423, Files transferred: 344, Transfer rate: 75582445\n",
      "_________\n",
      "Status: ACTIVE\n",
      "Bytes transferred: 4835255423, Files transferred: 344, Transfer rate: 65280503\n"
     ]
    }
   ],
   "source": [
    "# Poll Globus for results\n",
    "\n",
    "r = transfer_client.get_task(submit_result['task_id'])\n",
    "\n",
    "while r.data[\"status\"] != \"SUCCEEDED\":\n",
    "    print(\"_________\")\n",
    "    print(f\"Status: {r.data['status']}\")\n",
    "    print(f\"Bytes transferred: {r['bytes_transferred']}, Files transferred: {r['files_transferred']}, Transfer rate: {r['effective_bytes_per_second']}\")\n",
    "    r = transfer_client.get_task(submit_result['task_id'])\n",
    "    time.sleep(10)\n",
    "\n",
    "# Write files that were transferred\n",
    "with open(\"data/transferred_files.txt\", \"a\") as f:\n",
    "    for file in files_to_transfer:\n",
    "        f.write(file_uuid_mapping[file] + \"\\n\")"
   ]
  }
 ],
 "metadata": {
  "kernelspec": {
   "display_name": "Python 3",
   "language": "python",
   "name": "python3"
  },
  "language_info": {
   "codemirror_mode": {
    "name": "ipython",
    "version": 3
   },
   "file_extension": ".py",
   "mimetype": "text/x-python",
   "name": "python",
   "nbconvert_exporter": "python",
   "pygments_lexer": "ipython3",
   "version": "3.7.9"
  }
 },
 "nbformat": 4,
 "nbformat_minor": 5
}
